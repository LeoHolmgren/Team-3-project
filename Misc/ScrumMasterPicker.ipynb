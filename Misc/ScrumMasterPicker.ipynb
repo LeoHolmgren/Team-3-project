{
 "cells": [
  {
   "cell_type": "code",
   "execution_count": 7,
   "metadata": {},
   "outputs": [
    {
     "name": "stdout",
     "output_type": "stream",
     "text": [
      "The Scrum master this week is: Anton\n"
     ]
    }
   ],
   "source": [
    "import random\n",
    "\n",
    "# Specify the file containing names\n",
    "member_names = [\n",
    "    'Anton',\n",
    "    'Ruslan',\n",
    "    'Josh',\n",
    "    'Jonatan',\n",
    "    'Kevin',\n",
    "    'Emily',\n",
    "    'Belen'] \n",
    "\n",
    "try:\n",
    "    # Pick a random name from the list\n",
    "    chosen_name = random.choice(member_names)\n",
    "    print(f\"The Scrum master this week is: {chosen_name}\")\n",
    "\n",
    "except Exception as e:\n",
    "    print(f\"An error occurred: {e}\")\n"
   ]
  }
 ],
 "metadata": {
  "kernelspec": {
   "display_name": "Python 3",
   "language": "python",
   "name": "python3"
  },
  "language_info": {
   "codemirror_mode": {
    "name": "ipython",
    "version": 3
   },
   "file_extension": ".py",
   "mimetype": "text/x-python",
   "name": "python",
   "nbconvert_exporter": "python",
   "pygments_lexer": "ipython3",
   "version": "3.12.3"
  }
 },
 "nbformat": 4,
 "nbformat_minor": 2
}
